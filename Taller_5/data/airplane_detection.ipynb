{
 "cells": [
  {
   "cell_type": "markdown",
   "id": "5b92ae7c",
   "metadata": {},
   "source": [
    "# Detección de localización de aviones\n"
   ]
  },
  {
   "cell_type": "markdown",
   "id": "05413056",
   "metadata": {},
   "source": []
  }
 ],
 "metadata": {
  "language_info": {
   "name": "python"
  }
 },
 "nbformat": 4,
 "nbformat_minor": 5
}
